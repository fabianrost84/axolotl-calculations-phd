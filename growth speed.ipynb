{
 "cells": [
  {
   "cell_type": "code",
   "execution_count": 1,
   "metadata": {
    "collapsed": false
   },
   "outputs": [
    {
     "name": "stderr",
     "output_type": "stream",
     "text": [
      "/home/fabian/anaconda2/lib/python2.7/site-packages/IPython/config.py:13: ShimWarning: The `IPython.config` package has been deprecated. You should import from traitlets.config instead.\n",
      "  \"You should import from traitlets.config instead.\", ShimWarning)\n",
      "/home/fabian/anaconda2/lib/python2.7/site-packages/IPython/utils/traitlets.py:5: UserWarning: IPython.utils.traitlets has moved to a top-level traitlets package.\n",
      "  warn(\"IPython.utils.traitlets has moved to a top-level traitlets package.\")\n"
     ]
    }
   ],
   "source": [
    "import scipy as sp\n",
    "import pandas as pd\n",
    "import matplotlib.pyplot as plt\n",
    "import uncertainties\n",
    "import urllib2\n",
    "%matplotlib inline\n",
    "%load_ext ipycache"
   ]
  },
  {
   "cell_type": "code",
   "execution_count": 60,
   "metadata": {
    "collapsed": false
   },
   "outputs": [
    {
     "name": "stdout",
     "output_type": "stream",
     "text": [
      "[Saved variables 'outgrowth' to file '/media/500G/fabian/work/axolotl/git/axolotl-calculations-phd/outgrowth.pkl'.]\n"
     ]
    }
   ],
   "source": [
    "%%cache outgrowth.pkl outgrowth\n",
    "outgrowth_file = urllib2.urlopen('https://raw.githubusercontent.com/fabianrost84/Rost-Rodrigo-Albors-et-al-2016/v0.1-alpha/data/outgrowth.csv')\n",
    "outgrowth = pd.read_csv(outgrowth_file)\n",
    "outgrowth['length'] = outgrowth['length'] / 1000.0"
   ]
  },
  {
   "cell_type": "code",
   "execution_count": 61,
   "metadata": {
    "collapsed": false
   },
   "outputs": [
    {
     "data": {
      "text/html": [
       "<div>\n",
       "<table border=\"1\" class=\"dataframe\">\n",
       "  <thead>\n",
       "    <tr>\n",
       "      <th></th>\n",
       "      <th colspan=\"2\" halign=\"left\">length</th>\n",
       "    </tr>\n",
       "    <tr>\n",
       "      <th></th>\n",
       "      <th>mean</th>\n",
       "      <th>sem</th>\n",
       "    </tr>\n",
       "    <tr>\n",
       "      <th>time</th>\n",
       "      <th></th>\n",
       "      <th></th>\n",
       "    </tr>\n",
       "  </thead>\n",
       "  <tbody>\n",
       "    <tr>\n",
       "      <th>0.0</th>\n",
       "      <td>0.000000</td>\n",
       "      <td>0.000000</td>\n",
       "    </tr>\n",
       "    <tr>\n",
       "      <th>2.0</th>\n",
       "      <td>0.056500</td>\n",
       "      <td>0.009006</td>\n",
       "    </tr>\n",
       "    <tr>\n",
       "      <th>3.0</th>\n",
       "      <td>0.163286</td>\n",
       "      <td>0.020837</td>\n",
       "    </tr>\n",
       "    <tr>\n",
       "      <th>4.0</th>\n",
       "      <td>0.451750</td>\n",
       "      <td>0.041292</td>\n",
       "    </tr>\n",
       "    <tr>\n",
       "      <th>6.0</th>\n",
       "      <td>1.278500</td>\n",
       "      <td>0.056770</td>\n",
       "    </tr>\n",
       "    <tr>\n",
       "      <th>8.0</th>\n",
       "      <td>2.257250</td>\n",
       "      <td>0.072343</td>\n",
       "    </tr>\n",
       "  </tbody>\n",
       "</table>\n",
       "</div>"
      ],
      "text/plain": [
       "        length          \n",
       "          mean       sem\n",
       "time                    \n",
       "0.0   0.000000  0.000000\n",
       "2.0   0.056500  0.009006\n",
       "3.0   0.163286  0.020837\n",
       "4.0   0.451750  0.041292\n",
       "6.0   1.278500  0.056770\n",
       "8.0   2.257250  0.072343"
      ]
     },
     "execution_count": 61,
     "metadata": {},
     "output_type": "execute_result"
    }
   ],
   "source": [
    "mean_outgrowth = outgrowth.groupby('time').agg(['mean', 'sem'])\n",
    "mean_outgrowth"
   ]
  },
  {
   "cell_type": "code",
   "execution_count": 8,
   "metadata": {
    "collapsed": false
   },
   "outputs": [
    {
     "data": {
      "text/plain": [
       "<Container object of 3 artists>"
      ]
     },
     "execution_count": 8,
     "metadata": {},
     "output_type": "execute_result"
    },
    {
     "data": {
      "image/png": "[encoded data removed]",
      "text/plain": [
       "<matplotlib.figure.Figure at 0x7fc165e2b610>"
      ]
     },
     "metadata": {},
     "output_type": "display_data"
    }
   ],
   "source": [
    "plt.errorbar(mean_outgrowth.index, mean_outgrowth['length', 'mean'], mean_outgrowth['length', 'sem'])"
   ]
  },
  {
   "cell_type": "markdown",
   "metadata": {},
   "source": [
    "Mean outgrowth velocity:"
   ]
  },
  {
   "cell_type": "code",
   "execution_count": 49,
   "metadata": {
    "collapsed": false
   },
   "outputs": [
    {
     "name": "stdout",
     "output_type": "stream",
     "text": [
      "v: 0.28+/-0.01 mm / day\n",
      "v: 282.16+/-9.04 μm / day\n",
      "v: 11.8+/-0.4 μm / h\n"
     ]
    }
   ],
   "source": [
    "t = 8.0\n",
    "L = uncertainties.ufloat(mean_outgrowth.loc[t, ('length', 'mean')], mean_outgrowth.loc[t, ('length', 'sem')])\n",
    "v = L / t\n",
    "print 'v: {0:.2f} mm / day'.format(v)\n",
    "print 'v: {0:.2f} μm / day'.format(v * 1000.0)\n",
    "print u'v: {0:.1f} μm / h'.format(v * 1000.0 / 24.0)"
   ]
  },
  {
   "cell_type": "markdown",
   "metadata": {},
   "source": [
    "Zebrafish growth (data from Kimmel et al., 1995, Table 2):"
   ]
  },
  {
   "cell_type": "code",
   "execution_count": 12,
   "metadata": {
    "collapsed": true
   },
   "outputs": [],
   "source": [
    "pd.DataFrame?"
   ]
  },
  {
   "cell_type": "code",
   "execution_count": 29,
   "metadata": {
    "collapsed": false
   },
   "outputs": [],
   "source": [
    "outgrowth_zebrafish = pd.Series(data = [0.9, 1.4, 1.6], index = pd.Index([16. / 24., 19. / 24., 22. / 24.], name = 'time'), name = 'length')"
   ]
  },
  {
   "cell_type": "code",
   "execution_count": 30,
   "metadata": {
    "collapsed": false
   },
   "outputs": [
    {
     "data": {
      "text/plain": [
       "<matplotlib.axes._subplots.AxesSubplot at 0x7fc1631d5710>"
      ]
     },
     "execution_count": 30,
     "metadata": {},
     "output_type": "execute_result"
    },
    {
     "data": {
      "image/png": "[encoded data removed]",
      "text/plain": [
       "<matplotlib.figure.Figure at 0x7fc1632b2390>"
      ]
     },
     "metadata": {},
     "output_type": "display_data"
    }
   ],
   "source": [
    "outgrowth_zebrafish.plot()"
   ]
  },
  {
   "cell_type": "markdown",
   "metadata": {},
   "source": [
    "Mean growth speed zebrafish:"
   ]
  },
  {
   "cell_type": "code",
   "execution_count": 48,
   "metadata": {
    "collapsed": false
   },
   "outputs": [
    {
     "name": "stdout",
     "output_type": "stream",
     "text": [
      "delta time 6.0 h\n",
      "v: 2.80 mm / day\n",
      "v: 116.7 μm / h\n"
     ]
    }
   ],
   "source": [
    "tz = outgrowth_zebrafish.index[-1] - outgrowth_zebrafish.index[0]\n",
    "Lz = outgrowth_zebrafish.iloc[-1] - outgrowth_zebrafish.iloc[0]\n",
    "vz = Lz / tz\n",
    "print 'delta time {} h'.format(tz * 24)\n",
    "print 'v: {0:.2f} mm / day'.format(vz)\n",
    "print u'v: {0:.1f} μm / h'.format(vz * 1000.0 / 24.0)"
   ]
  },
  {
   "cell_type": "markdown",
   "metadata": {},
   "source": [
    "Growth speed of human hair (Loussouarn et al, 2005):"
   ]
  },
  {
   "cell_type": "code",
   "execution_count": 59,
   "metadata": {
    "collapsed": false
   },
   "outputs": [
    {
     "name": "stdout",
     "output_type": "stream",
     "text": [
      "v_af: 0.280+/-0.003 mm / day\n",
      "v_af: 11.7+/-0.1 μm / h\n",
      "v_as: 0.411+/-0.003 mm / day\n",
      "v_as: 17.1+/-0.1 μm / h\n"
     ]
    }
   ],
   "source": [
    "vh_af = 280.0 / 1000.0 # mm / d\n",
    "vh_af_sd = 50 / 1000.0 # mm / d\n",
    "Nh_af = 216\n",
    "vh_af_sem = vh_af_sd / sp.sqrt(Nh_af)\n",
    "vh_af = uncertainties.ufloat(vh_af, vh_af_sem)\n",
    "print 'v_af: {0:.3f} mm / day'.format(vh_af)\n",
    "print u'v_af: {0:.1f} μm / h'.format(vh_af * 1000.0 / 24.0)\n",
    "\n",
    "vh_as = 411.0 / 1000.0 # mm / d\n",
    "vh_as_sd = 43 / 1000.0 # mm / d\n",
    "Nh_as = 188\n",
    "vh_as_sem = vh_as_sd / sp.sqrt(Nh_as)\n",
    "vh_as = uncertainties.ufloat(vh_as, vh_as_sem)\n",
    "print 'v_as: {0:.3f} mm / day'.format(vh_as)\n",
    "print u'v_as: {0:.1f} μm / h'.format(vh_as * 1000.0 / 24.0)\n"
   ]
  }
 ],
 "metadata": {
  "kernelspec": {
   "display_name": "Python 2",
   "language": "python",
   "name": "python2"
  },
  "language_info": {
   "codemirror_mode": {
    "name": "ipython",
    "version": 2
   },
   "file_extension": ".py",
   "mimetype": "text/x-python",
   "name": "python",
   "nbconvert_exporter": "python",
   "pygments_lexer": "ipython2",
   "version": "2.7.11"
  }
 },
 "nbformat": 4,
 "nbformat_minor": 0
}
