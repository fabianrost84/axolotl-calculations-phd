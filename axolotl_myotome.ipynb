{
 "cells": [
  {
   "cell_type": "code",
   "execution_count": 2,
   "metadata": {
    "collapsed": false
   },
   "outputs": [],
   "source": [
    "import scipy as sp\n",
    "import scipy.optimize\n",
    "import pandas as pd\n",
    "import scipy.stats\n",
    "import iminuit\n",
    "import probfit\n",
    "import matplotlib.pyplot as plt\n",
    "%matplotlib inline\n",
    "import multiprocessing\n",
    "import IPython\n",
    "import statsmodels.api as sm\n",
    "import dill"
   ]
  },
  {
   "cell_type": "code",
   "execution_count": 1,
   "metadata": {
    "collapsed": false
   },
   "outputs": [
    {
     "name": "stderr",
     "output_type": "stream",
     "text": [
      "/home/fabian/anaconda2/lib/python2.7/site-packages/IPython/config.py:13: ShimWarning: The `IPython.config` package has been deprecated. You should import from traitlets.config instead.\n",
      "  \"You should import from traitlets.config instead.\", ShimWarning)\n",
      "/home/fabian/anaconda2/lib/python2.7/site-packages/IPython/utils/traitlets.py:5: UserWarning: IPython.utils.traitlets has moved to a top-level traitlets package.\n",
      "  warn(\"IPython.utils.traitlets has moved to a top-level traitlets package.\")\n"
     ]
    }
   ],
   "source": [
    "%load_ext ipycache"
   ]
  },
  {
   "cell_type": "code",
   "execution_count": 2,
   "metadata": {
    "collapsed": false
   },
   "outputs": [
    {
     "ename": "NameError",
     "evalue": "name 'multiprocessing' is not defined",
     "output_type": "error",
     "traceback": [
      "\u001b[0;31m---------------------------------------------------------------------------\u001b[0m",
      "\u001b[0;31mNameError\u001b[0m                                 Traceback (most recent call last)",
      "\u001b[0;32m<ipython-input-2-779ba07cb684>\u001b[0m in \u001b[0;36m<module>\u001b[0;34m()\u001b[0m\n\u001b[0;32m----> 1\u001b[0;31m \u001b[0mpool\u001b[0m \u001b[0;34m=\u001b[0m \u001b[0mmultiprocessing\u001b[0m\u001b[0;34m.\u001b[0m\u001b[0mPool\u001b[0m\u001b[0;34m(\u001b[0m\u001b[0;34m)\u001b[0m\u001b[0;34m\u001b[0m\u001b[0m\n\u001b[0m",
      "\u001b[0;31mNameError\u001b[0m: name 'multiprocessing' is not defined"
     ]
    }
   ],
   "source": [
    "pool = multiprocessing.Pool()"
   ]
  },
  {
   "cell_type": "code",
   "execution_count": 5,
   "metadata": {
    "collapsed": false
   },
   "outputs": [],
   "source": [
    "time = {}\n",
    "lf = {}\n",
    "time['4B'] = [2.29354, 2.28859, 2.10544, 2.26508, 9.66216, 9.50087, 9.50417, 9.36804, 16.9177, 16.954, 16.9606, 16.9701, 30.7825, 30.5948, 30.7603, 30.752, 49.6176, 49.6304, 49.6399, 49.6465, 98.6136, 98.786, 123.359, 123.363, 123.366]\n",
    "lf['4B'] = [0.627451, 0.598039, 0.509804, 0.458333, 0.409314, 0.45098, 0.470588, 0.661765, 0.519608, 0.735294, 0.77451, 0.830882, 0.89951, 0.784314, 0.767157, 0.718137, 0.811275, 0.887255, 0.943627, 0.982843, 0.928922, 0.953431, 0.955882, 0.980392, 1.00]\n",
    "\n",
    "time['4D'] = [2.29815, 2.12762, 2.29115, 2.28703, 9.67458, 9.50198, 9.48921, 16.8941, 16.8776, 17.0386, 30.6422, 30.6368, 30.788, 49.3113, 49.4521, 49.5967, 98.4965, 98.4923, 98.4886, 122.865, 122.861, 122.858]\n",
    "lf['4D'] = [0.32598, 0.340686, 0.367647, 0.392157, 0.436275, 0.463235, 0.539216, 0.480392, 0.578431, 0.620098, 0.678922, 0.710784, 0.811275, 0.598039, 0.759804, 0.89951, 0.946078, 0.970588, 0.992647, 0.955882, 0.97549, 0.997549]\n",
    "\n",
    "time['5B'] = [1.93289, 1.93289, 1.93289, 1.93289, 9.50336, 9.50336, 9.34228, 9.34228, 16.9128, 16.9128, 17.0738, 16.9128, 16.9128, 28.349, 28.349, 28.349, 53.9597, 53.7987, 53.7987, 76.349, 76.349, 76.349, 104.376, 104.376, 104.376]\n",
    "lf['5B'] = [0.197044, 0.26601, 0.300493, 0.371921, 0.330049, 0.317734, 0.29803, 0.268473, 0.256158, 0.29803, 0.344828, 0.364532, 0.421182, 0.41133, 0.396552, 0.325123, 0.748768, 0.711823, 0.687192, 0.448276, 0.497537, 0.524631, 0.566502, 0.761084, 0.859606]\n",
    "\n",
    "time ['5D'] = [1.93809, 1.93809, 2.0996, 9.52894, 9.52894, 9.52894, 9.52894, 16.9583, 16.9583, 16.9583, 17.1198, 16.9583, 28.5868, 28.5868, 28.7483, 28.5868, 53.9435, 53.9435, 53.9435, 53.9435, 76.5545, 76.393, 76.5545, 104.657, 104.657, 104.495]\n",
    "lf['5D'] = [0.130181, 0.253032, 0.275141, 0.144768, 0.169338, 0.18408, 0.220935, 0.210955, 0.240439, 0.274837, 0.292033, 0.390316, 0.205803, 0.230373, 0.308994, 0.490815, 0.335505, 0.352704, 0.438699, 0.522237, 0.298187, 0.34733, 0.41858, 0.263213, 0.282869, 0.35904]\n",
    "\n",
    "colors = {'4B': 'blue',\n",
    "          '4D': 'green',\n",
    "          '5B': 'red',\n",
    "          '5D': 'magenta'}"
   ]
  },
  {
   "cell_type": "code",
   "execution_count": 6,
   "metadata": {
    "collapsed": false
   },
   "outputs": [],
   "source": [
    "IDs = []\n",
    "times = []\n",
    "lfs = []\n",
    "\n",
    "for ID in time:\n",
    "    IDs += len(time[ID]) * [ID]\n",
    "    times += time[ID]\n",
    "    lfs += lf[ID]\n",
    "    \n",
    "lf_data = pd.DataFrame({'ID': IDs, 'time': times, 'labeling_fraction': lfs})"
   ]
  },
  {
   "cell_type": "code",
   "execution_count": 7,
   "metadata": {
    "collapsed": true
   },
   "outputs": [],
   "source": [
    "filters = [[0, 4,  {'4B', '4D', '5D', '5B'} ],\n",
    "           [4, 12, {'4B', '4D', '5D', '5B'} ],\n",
    "           [13, 18, {'4B', '4D', '5D', '5B'}],\n",
    "           [28, 32, {'4B', '4D'}],\n",
    "           [48, 52, {'4B', '4D'}],\n",
    "           [95, 100, {'4B', '4D'}],\n",
    "           [120, 125, {'4B', '4D'}],\n",
    "           [26, 32, {'5B', '5D'}],\n",
    "           [52, 55, {'5B', '5D'}],\n",
    "           [75, 78, {'5B', '5D'}],\n",
    "           [102, 106, {'5B', '5D'}],\n",
    "           ]"
   ]
  },
  {
   "cell_type": "code",
   "execution_count": 8,
   "metadata": {
    "collapsed": false
   },
   "outputs": [],
   "source": [
    "for filter_ in filters:\n",
    "    lf_data.loc[(lf_data['time'] < filter_[1]) & (lf_data['time'] > filter_[0]) & ([ID in filter_[2] for ID in lf_data['ID']]), 'time'] = \\\n",
    "        sp.around(2 * lf_data.loc[(lf_data['time'] < filter_[1]) & (lf_data['time'] > filter_[0]) & ([ID in filter_[2] for ID in lf_data['ID']]), 'time'].mean()) / 2\n",
    "lf_data = lf_data.set_index('ID')    "
   ]
  },
  {
   "cell_type": "code",
   "execution_count": 9,
   "metadata": {
    "collapsed": false
   },
   "outputs": [
    {
     "data": {
      "text/plain": [
       "array([   2. ,    9.5,   17. ,   28.5,   54. ,   76.5,  104.5,   30.5,\n",
       "         49.5,   98.5,  123. ])"
      ]
     },
     "execution_count": 9,
     "metadata": {},
     "output_type": "execute_result"
    }
   ],
   "source": [
    "lf_data['time'].unique()"
   ]
  },
  {
   "cell_type": "code",
   "execution_count": 10,
   "metadata": {
    "collapsed": false
   },
   "outputs": [],
   "source": [
    "lf_data_for_mean = lf_data.reset_index().groupby(['ID', 'time']).filter(lambda x: len(x) > 2)\n",
    "lf_data_mean = lf_data_for_mean.reset_index().groupby(['ID', 'time']).agg(['mean', 'std', 'sem', 'count']).reset_index().set_index('ID')"
   ]
  },
  {
   "cell_type": "code",
   "execution_count": 11,
   "metadata": {
    "collapsed": false
   },
   "outputs": [
    {
     "name": "stderr",
     "output_type": "stream",
     "text": [
      "/home/fabian/anaconda/lib/python2.7/site-packages/matplotlib/collections.py:590: FutureWarning: elementwise comparison failed; returning scalar instead, but in the future will perform elementwise comparison\n",
      "  if self._edgecolors == str('face'):\n"
     ]
    },
    {
     "data": {
      "image/png": "[encoded data removed]",
      "text/plain": [
       "<matplotlib.figure.Figure at 0x7feece592d10>"
      ]
     },
     "metadata": {},
     "output_type": "display_data"
    }
   ],
   "source": [
    "for ID in lf_data.index.unique():\n",
    "    cscatterdata = lf_data.loc[ID]\n",
    "    cmeandata = lf_data_mean.loc[ID]\n",
    "    plt.scatter(cscatterdata['time'], cscatterdata['labeling_fraction'], label = ID, color = colors[ID])\n",
    "    plt.errorbar(cmeandata['time'], cmeandata['labeling_fraction', 'mean'], cmeandata['labeling_fraction', 'sem'], color = colors[ID])\n",
    "    \n",
    "\n",
    "plt.legend(loc=0)\n",
    "plt.show()    "
   ]
  },
  {
   "cell_type": "code",
   "execution_count": 12,
   "metadata": {
    "collapsed": true
   },
   "outputs": [],
   "source": [
    "def brdu_model(t, TS, TC, TG2M, r, GF):\n",
    "    \"\"\" BrdU-labeling fraction model for BrdU incorporation in vivo.\n",
    "        Based on Lefevre et al., 2013 and extended with an initial\n",
    "        growth fraction.\n",
    "        \n",
    "        t    ... time after start of BrdU labeling\n",
    "        TS   ... length of S-Phase\n",
    "        TC   ... cell cycle length\n",
    "        TG2M ... combined length of G2- and M-Phase\n",
    "        r    ... mean number of daughter cells after cell division remaining\n",
    "                 in the population\n",
    "        GF   ... initial growth fraction\n",
    "        \n",
    "        Lefevre, J., Marshall, D. J., Combes, A. N., Ju, A. L., Little, M. H.\n",
    "        & Hamilton, N. A. (2013). Modelling cell turnover in a complex tissue\n",
    "        during development. Journal of Theoretical Biology, 338, 66-79.\n",
    "    \"\"\"\n",
    "    \n",
    "    if TS + TG2M > TC:\n",
    "        return sp.nan\n",
    "    else:\n",
    "        if r==1:\n",
    "            if t < TC - TS:\n",
    "                return GF * (t + TS) / TC\n",
    "            else:\n",
    "                return GF\n",
    "        else:\n",
    "            # calculate the growth fraction at time t\n",
    "            g = ( ( GF * r ** (t / TC) ) / ( GF * r ** (t / TC) + (1 - GF) ) )\n",
    "            if t < TG2M:\n",
    "                return  g * ((r ** ( ( TG2M + TS ) / TC ) - r ** (( TG2M - t ) / TC) ) / (r - 1.0) )\n",
    "            elif t < TC - TS:\n",
    "                return g * (1.0 - ( r ** ( ( TC + TG2M - t ) / TC ) - r ** ( ( TG2M  + TS) / TC ) ) / (r - 1.0) )\n",
    "            else:\n",
    "                return g"
   ]
  },
  {
   "cell_type": "code",
   "execution_count": 13,
   "metadata": {
    "collapsed": true
   },
   "outputs": [],
   "source": [
    "def nowakowski_model(time, TS, TC, GF):\n",
    "    xp = [0, TC - TS]\n",
    "    yp = [GF * TS / TC, GF]\n",
    "    return sp.interp(time, xp, yp, left = None, right = None)"
   ]
  },
  {
   "cell_type": "code",
   "execution_count": 14,
   "metadata": {
    "collapsed": true
   },
   "outputs": [],
   "source": [
    "def coord_to_cycle(Y0, X1, Y1):\n",
    "    TC = X1 / (1 - Y0)\n",
    "    TS = TC * Y0\n",
    "    return "
   ]
  },
  {
   "cell_type": "code",
   "execution_count": 33,
   "metadata": {
    "collapsed": false
   },
   "outputs": [],
   "source": [
    "sp.optimize.brute?"
   ]
  },
  {
   "cell_type": "code",
   "execution_count": 34,
   "metadata": {
    "collapsed": false
   },
   "outputs": [],
   "source": [
    "sp.optimize.minimize?"
   ]
  },
  {
   "cell_type": "markdown",
   "metadata": {},
   "source": [
    "Bootstrapping"
   ]
  },
  {
   "cell_type": "code",
   "execution_count": 15,
   "metadata": {
    "collapsed": true
   },
   "outputs": [],
   "source": [
    "def fit_model(data, Ns):\n",
    "    def chi2(x, data = data):\n",
    "        rTS, TC, GF = x\n",
    "        TS = rTS * TC\n",
    "        x = sp.array(data['time'])\n",
    "        y = sp.array(data['labeling_fraction'])\n",
    "        return probfit.costfunc.Chi2Regression(nowakowski_model, x, y)(TS, TC, GF)\n",
    "    \n",
    "    x0 = sp.optimize.brute(chi2, [(0.0, 1.0), (20.0, 200.0), (0.0, 1.0)], Ns = Ns)\n",
    "#     x0 = sp.optimize.basinhopping(chi2, [0.5, 100.0, 0.5])\n",
    "    return {'TS': x0[0] * x0[1], 'TC': x0[1], 'GF': x0[2]}    "
   ]
  },
  {
   "cell_type": "code",
   "execution_count": 16,
   "metadata": {
    "collapsed": false
   },
   "outputs": [],
   "source": [
    "def plot_fit(data, res):\n",
    "    fig, ax = plt.subplots()\n",
    "    plt.scatter(data['time'], data['labeling_fraction'])\n",
    "    time = sp.linspace(0, 125, 100)\n",
    "    plt.plot(time, nowakowski_model(time, **res.mean()))\n",
    "    return fig, ax"
   ]
  },
  {
   "cell_type": "code",
   "execution_count": 17,
   "metadata": {
    "collapsed": false
   },
   "outputs": [],
   "source": [
    "def bootstrap(data, N, Ns):\n",
    "    resampled_datasets = [data.sample(frac=1.0, replace=True) for i in range(N)]\n",
    "    \n",
    "    def fit_model_pool_map(data):\n",
    "        return fit_model(data, Ns)\n",
    "    results = map(fit_model_pool_map, resampled_datasets)\n",
    "    \n",
    "    return pd.DataFrame(results)"
   ]
  },
  {
   "cell_type": "code",
   "execution_count": 19,
   "metadata": {
    "collapsed": false
   },
   "outputs": [
    {
     "name": "stdout",
     "output_type": "stream",
     "text": [
      "[Skipped the cell's code and loaded variables res from file '/home/fabian/ownCloud/Vincent_Rost_Brusch_and_Tanaka_BMC/BrdU/bootstrap.pkl'.]\n"
     ]
    },
    {
     "data": {
      "image/png": "[encoded data removed]",
      "text/plain": [
       "<matplotlib.figure.Figure at 0x7f7d2c6a71d0>"
      ]
     },
     "metadata": {},
     "output_type": "display_data"
    },
    {
     "data": {
      "image/png": "[encoded data removed]",
      "text/plain": [
       "<matplotlib.figure.Figure at 0x7f7d2c6716d0>"
      ]
     },
     "metadata": {},
     "output_type": "display_data"
    },
    {
     "data": {
      "image/png": "[encoded data removed]",
      "text/plain": [
       "<matplotlib.figure.Figure at 0x7f7d2c6d4490>"
      ]
     },
     "metadata": {},
     "output_type": "display_data"
    },
    {
     "data": {
      "image/png": "[encoded data removed]",
      "text/plain": [
       "<matplotlib.figure.Figure at 0x7f7d2c945cd0>"
      ]
     },
     "metadata": {},
     "output_type": "display_data"
    },
    {
     "name": "stdout",
     "output_type": "stream",
     "text": [
      "CPU times: user 6.64 ms, sys: 0 ns, total: 6.64 ms\n",
      "Wall time: 6.34 ms\n"
     ]
    }
   ],
   "source": [
    "%%time \n",
    "%%cache -r bootstrap.pkl res \n",
    "N = 10000 \n",
    "Ns = 10 \n",
    "\n",
    "res = {}\n",
    "\n",
    "for ID, data in lf_data.groupby(level='ID'):\n",
    "    res[ID] = bootstrap(data, N, Ns)\n",
    "    summary = res[ID].groupby(lambda x: 0).agg(['mean', 'std'])\n",
    "    GF, GF_delta, TC, TC_delta, TS, TS_delta = summary.loc[0]\n",
    "#     IPython.display.display(summary)\n",
    "    \n",
    "    \n",
    "    fig, ax = plot_fit(data, res[ID])\n",
    "    ax.set_title(ID, fontsize = 'xx-large')\n",
    "    \n",
    "    ax.set_xlim(0, 120)\n",
    "    ax.set_ylim(0, 1)\n",
    "    \n",
    "    ax.set_xlabel('time / hours', fontsize = 'xx-large')\n",
    "    ax.set_ylabel('Labeling Index', fontsize = 'xx-large')\n",
    "    \n",
    "    ax.tick_params(labelsize = 'x-large')\n",
    "    \n",
    "    summarytext = \"TC: {0:.0f}$\\pm${1:.0f}\\nTS: {2:.0f}$\\pm${3:.0f}\\nGF: {4:.0f}%$\\pm${5:.0f}%\".format(TC, TC_delta, TS, TS_delta, 100*GF, 100*GF_delta)\n",
    "    \n",
    "    ax.text(125, 0.8, summarytext, fontsize = 'x-large')\n",
    "    \n",
    "    plt.show()"
   ]
  },
  {
   "cell_type": "code",
   "execution_count": 21,
   "metadata": {
    "collapsed": false
   },
   "outputs": [
    {
     "data": {
      "text/html": [
       "<div>\n",
       "<table border=\"1\" class=\"dataframe\">\n",
       "  <thead>\n",
       "    <tr style=\"text-align: right;\">\n",
       "      <th></th>\n",
       "      <th>std</th>\n",
       "      <th>0.15</th>\n",
       "      <th>99.95</th>\n",
       "      <th>99.85</th>\n",
       "      <th>0.05</th>\n",
       "      <th>97.5</th>\n",
       "      <th>2.5</th>\n",
       "      <th>mean</th>\n",
       "    </tr>\n",
       "  </thead>\n",
       "  <tbody>\n",
       "    <tr>\n",
       "      <th>0</th>\n",
       "      <td>0.03724</td>\n",
       "      <td>0.375982</td>\n",
       "      <td>0.711473</td>\n",
       "      <td>0.689877</td>\n",
       "      <td>0.299881</td>\n",
       "      <td>0.659473</td>\n",
       "      <td>0.516356</td>\n",
       "      <td>0.606698</td>\n",
       "    </tr>\n",
       "  </tbody>\n",
       "</table>\n",
       "</div>"
      ],
      "text/plain": [
       "       std      0.15     99.95     99.85      0.05      97.5       2.5  \\\n",
       "0  0.03724  0.375982  0.711473  0.689877  0.299881  0.659473  0.516356   \n",
       "\n",
       "       mean  \n",
       "0  0.606698  "
      ]
     },
     "execution_count": 21,
     "metadata": {},
     "output_type": "execute_result"
    }
   ],
   "source": [
    "diff"
   ]
  },
  {
   "cell_type": "code",
   "execution_count": 37,
   "metadata": {
    "collapsed": false
   },
   "outputs": [
    {
     "name": "stdout",
     "output_type": "stream",
     "text": [
      "Comparing 4B and 4D\n",
      "TC difference: 10.055119453 +- 54.4134057098  \n",
      "TC difference (p<0.05) : -10.1 [-89.2, 62.4] \n",
      "TC difference (p<0.003): -10.1 [-135, 100] \n",
      "TC difference (p<0.001): -10.1 [-149, 123] \n",
      "TS difference: 8.71834050516 +- 31.7685271287  \n",
      "TS difference (p<0.05) : 8.67 [-36.9, 52.2] \n",
      "TS difference (p<0.003): 8.67 [-67.6, 83] \n",
      "TS difference (p<0.001): 8.67 [-80.8, 112] \n",
      "GF difference: 0.01547234011 +- 0.0496674285222  \n",
      "GF difference (p<0.05) : -0.0153 [-0.0797, 0.0697] \n",
      "GF difference (p<0.003): -0.0153 [-0.124, 0.195] \n",
      "GF difference (p<0.001): -0.0153 [-0.151, 0.22] \n",
      "Comparing 5B and 5D\n",
      "TC difference: 35.8911082758 +- 85.4146078934  \n",
      "TC difference (p<0.05) : 35.8 [-68.5, 155] \n",
      "TC difference (p<0.003): 35.8 [-152, 185] \n",
      "TC difference (p<0.001): 35.8 [-211, 193] \n",
      "TS difference: 0.812046502793 +- 44.9814716415  \n",
      "TS difference (p<0.05) : -1 [-69.3, 56.9] \n",
      "TS difference (p<0.003): -1 [-153, 85.4] \n",
      "TS difference (p<0.001): -1 [-199, 96.2] \n",
      "GF difference: 0.328624331712 +- 0.12474594961  *\n",
      "GF difference (p<0.05) : 0.329 [0.18, 0.575] *\n",
      "GF difference (p<0.003): 0.329 [0.107, 0.683] *\n",
      "GF difference (p<0.001): 0.329 [0.0239, 0.702] *\n",
      "Comparing 4B and 5B\n",
      "TC difference: 16.9648120489 +- 73.0516844915  \n",
      "TC difference (p<0.05) : -16.8 [-125, 61.1] \n",
      "TC difference (p<0.003): -16.8 [-165, 96.2] \n",
      "TC difference (p<0.001): -16.8 [-175, 125] \n",
      "TS difference: 11.3194059594 +- 34.7399261584  \n",
      "TS difference (p<0.05) : 11.3 [-39.6, 55.8] \n",
      "TS difference (p<0.003): 11.3 [-69.9, 88.7] \n",
      "TS difference (p<0.001): 11.3 [-80.9, 115] \n",
      "GF difference: 0.2626645379 +- 0.121740027619  *\n",
      "GF difference (p<0.05) : 0.263 [0.0137, 0.407] *\n",
      "GF difference (p<0.003): 0.263 [-0.0932, 0.454] \n",
      "GF difference (p<0.001): 0.263 [-0.111, 0.467] \n",
      "Comparing 4D and 5D\n",
      "TC difference: 28.9814156799 +- 66.7763291117  \n",
      "TC difference (p<0.05) : 28.9 [-66.8, 117] \n",
      "TC difference (p<0.003): 28.9 [-154, 157] \n",
      "TC difference (p<0.001): 28.9 [-197, 168] \n",
      "TS difference: 1.78901895149 +- 42.0100726118  \n",
      "TS difference (p<0.05) : 1.63 [-65.7, 53.5] \n",
      "TS difference (p<0.003): 1.63 [-152, 82.3] \n",
      "TS difference (p<0.001): 1.63 [-199, 92.5] \n",
      "GF difference: 0.606761209722 +- 0.0526733505124  **\n",
      "GF difference (p<0.05) : 0.607 [0.519, 0.66] *\n",
      "GF difference (p<0.003): 0.607 [0.376, 0.69] *\n",
      "GF difference (p<0.001): 0.607 [0.299, 0.712] *\n"
     ]
    }
   ],
   "source": [
    "Nd = int(1e5)\n",
    "pairs = [('4B', '4D'), ('5B', '5D'), ('4B', '5B'), ('4D', '5D')]\n",
    "for pair in pairs:\n",
    "    print('Comparing {0} and {1}'.format(pair[0], pair[1]))\n",
    "    for parameter in ['TC', 'TS', 'GF']:\n",
    "        a = res[pair[0]][parameter]\n",
    "        b = res[pair[1]][parameter]\n",
    "        \n",
    "        diff = abs(a.mean() - b.mean())\n",
    "#         sigma = sp.sqrt(a.std()**2 + b.std()**2 )\n",
    "        sigma = a.std() + b.std()\n",
    "        \n",
    "        if diff - 3 * sigma > 0:\n",
    "            s2 = '**'\n",
    "        elif diff - 2 * sigma > 0:\n",
    "            s2 = '*'\n",
    "        else:\n",
    "            s2 = ''\n",
    "        \n",
    "        print('{} difference: {} +- {}  {}'.format(parameter, diff, sigma, s2))\n",
    "\n",
    "        diff = (a.sample(n=Nd, replace=True).reset_index(drop=True) - b.sample(n=Nd, replace=True).reset_index(drop=True))\\\n",
    "               .groupby(lambda x: 0).agg({'mean': 'mean',\n",
    "                                          'std': 'std',\n",
    "                                          '2.5': lambda x: sp.percentile(x, 2.5),\n",
    "                                          '97.5': lambda x: sp.percentile(x, 97.5),\n",
    "                                          '0.15': lambda x: sp.percentile(x, 0.15),\n",
    "                                          '99.85': lambda x: sp.percentile(x, 99.85),\n",
    "                                          '0.05': lambda x: sp.percentile(x, 0.05),\n",
    "                                          '99.95': lambda x: sp.percentile(x, 99.95),})\n",
    "        s3 = '*' if diff.loc[0, '2.5'] > 0 or diff.loc[0, '97.5'] < 0 else ''\n",
    "        \n",
    "        print('{} difference (p<0.05) : {:.3g} [{:.3g}, {:.3g}] {}'.format(parameter,\\\n",
    "                                                                 float(diff['mean']),\\\n",
    "                                                              float(diff['2.5']),\\\n",
    "                                                              float(diff['97.5']),\\\n",
    "                                                                 s3))\n",
    "        s4 = '*' if diff.loc[0, '0.15'] > 0 or diff.loc[0, '99.85'] < 0 else ''\n",
    "        print('{} difference (p<0.003): {:.3g} [{:.3g}, {:.3g}] {}'.format(parameter,\\\n",
    "                                                                 float(diff['mean']),\\\n",
    "                                                              float(diff['0.15']),\\\n",
    "                                                              float(diff['99.85']),\\\n",
    "                                                                 s4))\n",
    "        s4 = '*' if diff.loc[0, '0.05'] > 0 or diff.loc[0, '99.95'] < 0 else ''\n",
    "        print('{} difference (p<0.001): {:.3g} [{:.3g}, {:.3g}] {}'.format(parameter,\\\n",
    "                                                                 float(diff['mean']),\\\n",
    "                                                              float(diff['0.05']),\\\n",
    "                                                              float(diff['99.95']),\\\n",
    "                                                                 s4))"
   ]
  },
  {
   "cell_type": "markdown",
   "metadata": {},
   "source": [
    "Todo: Symmetric Model"
   ]
  },
  {
   "cell_type": "markdown",
   "metadata": {},
   "source": [
    "## Exports for Lutz"
   ]
  },
  {
   "cell_type": "markdown",
   "metadata": {},
   "source": [
    "BrdU fit estimates"
   ]
  },
  {
   "cell_type": "code",
   "execution_count": 26,
   "metadata": {
    "collapsed": false
   },
   "outputs": [
    {
     "data": {
      "text/html": [
       "<div>\n",
       "<table border=\"1\" class=\"dataframe\">\n",
       "  <thead>\n",
       "    <tr>\n",
       "      <th></th>\n",
       "      <th colspan=\"2\" halign=\"left\">GF</th>\n",
       "      <th colspan=\"2\" halign=\"left\">TC</th>\n",
       "      <th colspan=\"2\" halign=\"left\">TS</th>\n",
       "    </tr>\n",
       "    <tr>\n",
       "      <th></th>\n",
       "      <th>mean</th>\n",
       "      <th>std</th>\n",
       "      <th>mean</th>\n",
       "      <th>std</th>\n",
       "      <th>mean</th>\n",
       "      <th>std</th>\n",
       "    </tr>\n",
       "  </thead>\n",
       "  <tbody>\n",
       "    <tr>\n",
       "      <th>4B</th>\n",
       "      <td>0.952413</td>\n",
       "      <td>0.023870</td>\n",
       "      <td>102.731060</td>\n",
       "      <td>25.842655</td>\n",
       "      <td>53.870944</td>\n",
       "      <td>17.315950</td>\n",
       "    </tr>\n",
       "    <tr>\n",
       "      <th>4D</th>\n",
       "      <td>0.967886</td>\n",
       "      <td>0.025798</td>\n",
       "      <td>112.786180</td>\n",
       "      <td>28.570750</td>\n",
       "      <td>45.152603</td>\n",
       "      <td>14.452577</td>\n",
       "    </tr>\n",
       "    <tr>\n",
       "      <th>5B</th>\n",
       "      <td>0.689749</td>\n",
       "      <td>0.097870</td>\n",
       "      <td>119.695872</td>\n",
       "      <td>47.209029</td>\n",
       "      <td>42.551538</td>\n",
       "      <td>17.423977</td>\n",
       "    </tr>\n",
       "    <tr>\n",
       "      <th>5D</th>\n",
       "      <td>0.361125</td>\n",
       "      <td>0.026876</td>\n",
       "      <td>83.804764</td>\n",
       "      <td>38.205579</td>\n",
       "      <td>43.363584</td>\n",
       "      <td>27.557495</td>\n",
       "    </tr>\n",
       "  </tbody>\n",
       "</table>\n",
       "</div>"
      ],
      "text/plain": [
       "          GF                    TC                    TS           \n",
       "        mean       std        mean        std       mean        std\n",
       "4B  0.952413  0.023870  102.731060  25.842655  53.870944  17.315950\n",
       "4D  0.967886  0.025798  112.786180  28.570750  45.152603  14.452577\n",
       "5B  0.689749  0.097870  119.695872  47.209029  42.551538  17.423977\n",
       "5D  0.361125  0.026876   83.804764  38.205579  43.363584  27.557495"
      ]
     },
     "execution_count": 26,
     "metadata": {},
     "output_type": "execute_result"
    }
   ],
   "source": [
    "export_res = pd.concat([r.groupby(lambda x: condition).agg(['mean', 'std']) for condition, r in sorted(res.items())])\n",
    "export_res.to_excel('cell_cycle_parameters.xlsx')\n",
    "export_res"
   ]
  },
  {
   "cell_type": "code",
   "execution_count": null,
   "metadata": {
    "collapsed": false
   },
   "outputs": [],
   "source": [
    "for ID, data in lf_data.groupby(level='ID'):\n",
    "    data.to_excel('brdu_data_{}.xlsx'.format(ID))"
   ]
  },
  {
   "cell_type": "code",
   "execution_count": null,
   "metadata": {
    "collapsed": false
   },
   "outputs": [],
   "source": [
    "for ID, data in res.items():\n",
    "    export_timecourse = pd.DataFrame()\n",
    "    export_timecourse['time'] = sp.linspace(0, 150, 200)\n",
    "    export_timecourse['labeling_fraction'] = nowakowski_model(export_timecourse['time'], **data.mean())\n",
    "    export_timecourse.to_excel('brdu_model_prediciton_{}.xlsx'.format(ID))"
   ]
  },
  {
   "cell_type": "code",
   "execution_count": null,
   "metadata": {
    "collapsed": true
   },
   "outputs": [],
   "source": []
  }
 ],
 "metadata": {
  "anaconda-cloud": {},
  "kernelspec": {
   "display_name": "Python [default]",
   "language": "python",
   "name": "python2"
  },
  "language_info": {
   "codemirror_mode": {
    "name": "ipython",
    "version": 2
   },
   "file_extension": ".py",
   "mimetype": "text/x-python",
   "name": "python",
   "nbconvert_exporter": "python",
   "pygments_lexer": "ipython2",
   "version": "2.7.13"
  },
  "toc": {
   "nav_menu": {
    "height": "31px",
    "width": "252px"
   },
   "navigate_menu": true,
   "number_sections": true,
   "sideBar": true,
   "threshold": 4,
   "toc_cell": false,
   "toc_section_display": "block",
   "toc_window_display": false
  }
 },
 "nbformat": 4,
 "nbformat_minor": 0
}
